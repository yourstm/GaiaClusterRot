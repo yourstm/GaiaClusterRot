{
 "cells": [
  {
   "cell_type": "code",
   "execution_count": null,
   "metadata": {},
   "outputs": [],
   "source": [
    "import pandas\n",
    "import math\n",
    "import matplotlib.pyplot as plt\n",
    "import matplotlib as mp\n",
    "import matplotlib.cm as cm\n",
    "import numpy as np\n",
    "from IPython.display import set_matplotlib_formats\n",
    "\n",
    "def main():\n",
    "    # Reading the CSV into a pandas dataframe, making cuts, and collecting the distance modulus \n",
    "    Kepler = pandas.read_csv(\"../McQuillan/keplerMcQuillan.csv\")\n",
    "    Kepler = Kepler[(Kepler.phot_g_mean_flux_over_error >= 50) & (Kepler.phot_rp_mean_flux_over_error >= 20) & (Kepler.phot_bp_mean_flux_over_error >= 20) & (Kepler.parallax > 0)]\n",
    "    KeplerDistMod = distMod(Kepler[\"parallax\"])\n",
    "    \n",
    "    # Using Davenports colormap\n",
    "    cm = plt.cm.get_cmap('Spectral_r')\n",
    "    fig, ax1 = plt.subplots(figsize=(9,7))\n",
    "\n",
    "\n",
    "\n",
    "    # Plotting my own data/cols/etc.\n",
    "    plt.scatter(Kepler[\"bp_rp\"], Kepler[\"phot_g_mean_mag\"] - KeplerDistMod, marker = \"v\", s = 0.5, c = Kepler[\"Prot\"], label = \"Kepler\", cmap = cm)\n",
    "    plt.ylabel(\"$M_G$ (mag)\")\n",
    "    plt.xlabel(\"$G_{BP} - G_{RP}$ (mag)\")\n",
    "    plt.ylim(11, 0)\n",
    "    plt.xlim(0.5, 2.75)\n",
    "\n",
    "    # Setting up colorbar after colormap has been defined\n",
    "    cb = plt.colorbar()\n",
    "    cb.set_label(\"$P_{rot}$ (days)\")\n",
    "    \n",
    "    # Defining the inset plot\n",
    "    ax2 = fig.add_axes([0.47, 0.5, 0.25, 0.35])\n",
    "    ax2.tick_params(labelsize = 10)\n",
    "    ax2.scatter(Kepler[\"bp_rp\"], Kepler[\"phot_g_mean_mag\"] - KeplerDistMod, marker = \"v\", s = 7, c = Kepler[\"Prot\"], cmap = cm)\n",
    "    ax2.set_xlim(1.3,1.6)\n",
    "    ax2.set_ylim(7.5, 6)\n",
    "    ax2.set_yticks([7.5, 7, 6.5, 6])\n",
    "    \n",
    "    # Using Davenports image settings\n",
    "    set_matplotlib_formats('pdf', 'png')\n",
    "    plt.rcParams['savefig.dpi'] = 200\n",
    "    plt.rcParams['figure.autolayout'] = False\n",
    "    plt.rcParams['figure.figsize'] = 6,6\n",
    "    plt.rcParams['axes.labelsize'] = 18\n",
    "    plt.rcParams['axes.titlesize'] = 20\n",
    "    plt.rcParams['font.size'] = 16\n",
    "    plt.rcParams['lines.linewidth'] = 2.0\n",
    "    plt.rcParams['lines.markersize'] = 8\n",
    "    plt.rcParams['legend.fontsize'] = 14\n",
    "    mp.rcParams['xtick.direction'] = 'out'\n",
    "    mp.rcParams['ytick.direction'] = 'out'\n",
    "    plt.show()\n",
    "\n",
    "def distMod(parallax):\n",
    "\tresult = 5*(np.log10(1000/parallax) - 1)\n",
    "\treturn result\n",
    "\n",
    "\n",
    "main()"
   ]
  },
  {
   "cell_type": "code",
   "execution_count": null,
   "metadata": {},
   "outputs": [],
   "source": []
  },
  {
   "cell_type": "code",
   "execution_count": null,
   "metadata": {},
   "outputs": [],
   "source": []
  }
 ],
 "metadata": {
  "kernelspec": {
   "display_name": "Python 2",
   "language": "python",
   "name": "python2"
  },
  "language_info": {
   "codemirror_mode": {
    "name": "ipython",
    "version": 2
   },
   "file_extension": ".py",
   "mimetype": "text/x-python",
   "name": "python",
   "nbconvert_exporter": "python",
   "pygments_lexer": "ipython2",
   "version": "2.7.15"
  }
 },
 "nbformat": 4,
 "nbformat_minor": 2
}
