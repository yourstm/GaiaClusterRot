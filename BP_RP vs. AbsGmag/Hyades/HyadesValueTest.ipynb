{
 "cells": [
  {
   "cell_type": "code",
   "execution_count": 3,
   "metadata": {},
   "outputs": [
    {
     "name": "stdout",
     "output_type": "stream",
     "text": [
      "K2Per: 9.3908\n",
      "\n",
      "K2Per: 0.4812\n",
      "\n",
      "K2Per: 10.1182\n",
      "\n",
      "K2Per: 1.4486\n",
      "\n",
      "Line skipped for no K2Per value: 5\n",
      "\n",
      "K2Per: 12.3168\n",
      "\n",
      "K2Per: 23.1244\n",
      "\n",
      "K2Per: 0.2967\n",
      "\n",
      "K2Per: 1.3183\n",
      "\n",
      "Line skipped for no K2Per value: 10\n",
      "\n",
      "K2Per: 0.8037\n",
      "\n",
      "K2Per: 1.8626\n",
      "\n",
      "K2Per: 0.205\n",
      "\n",
      "K2Per: 1.2774\n",
      "\n",
      "K2Per: 2.4191\n",
      "\n",
      "K2Per: 12.8433\n",
      "\n",
      "Line skipped for no K2Per value: 17\n",
      "\n",
      "K2Per: 10.9678\n",
      "\n",
      "K2Per: 20.3105\n",
      "\n",
      "K2Per: 0.8968\n",
      "\n",
      "K2Per: 2.3788\n",
      "\n",
      "K2Per: 1.8884\n",
      "\n",
      "Line skipped for no K2Per value: 23\n",
      "\n",
      "Line skipped for no K2Per value: 24\n",
      "\n",
      "Line skipped for no K2Per value: 25\n",
      "\n",
      "K2Per: 1.0542\n",
      "\n",
      "number of points plotted: 20\n",
      "numer of lines skipped: 6\n",
      "Theoretical amount of points to plot: 36\n"
     ]
    },
    {
     "data": {
      "image/png": "[encoded data removed]",
      "text/plain": [
       "<Figure size 432x288 with 1 Axes>"
      ]
     },
     "metadata": {
      "needs_background": "light"
     },
     "output_type": "display_data"
    }
   ],
   "source": [
    "# In the original ClusterCMD, the Hyades cluster wasn't plotting correctly. The rotational period based colors were off, and it wasn't plotting all the points\n",
    "# This is one attempt to fix that problem by investigating the NaN values in the .csv\n",
    "# Unfortunately, this method was skipping extra lines that even had non-NaN rotational periods.\n",
    "# Still unsure why it skipped so many.\n",
    "# Note: there are only 10 NaN values, and technically 36 points, ideall we would be plotting 26 points\n",
    "\n",
    "import pandas as panda\n",
    "import numpy as np\n",
    "import matplotlib.pyplot as plt\n",
    "def main():\n",
    "    Hyades = panda.read_csv(\"../Hyades/Hyades(With Rotation).csv\")\n",
    "\n",
    "    # Redefining dataframe to only have values that exist in K2Per column\n",
    "    Hyades2 = Hyades[np.isfinite(Hyades['K2Per'])]\n",
    "    HyadesDistMod = distMod(Hyades2['parallax'])\n",
    "    \n",
    "    # running a loop to only plot points for rows that exist using new dataframe\n",
    "    # j acts as a counter to count how many points are plotted, k acts as the number of lines skipped\n",
    "    j = 0\n",
    "    k = 0\n",
    "    for i in range(len(Hyades2)):\n",
    "        if i not in [4, 9, 16, 22, 23, 24]: # Rows that dont have an existing value in K2Per column\n",
    "            plt.scatter(Hyades2.iloc[i][\"bp_rp\"], Hyades2.iloc[i][\"phot_g_mean_mag\"]-HyadesDistMod[i], marker = \"x\", s = 6, color = \"black\")\n",
    "            j+=1\n",
    "            print(\"K2Per: \" + str(Hyades2.iloc[i][\"K2Per\"]) + \"\\n\")\n",
    "        if i in [4, 9, 16, 22, 23, 24]:\n",
    "            print(\"Line skipped for no K2Per value: \" + str(i+1) + \"\\n\")\n",
    "            k+=1\n",
    "    \n",
    "    print(\"number of points plotted: \" + str(j))\n",
    "    print(\"numer of lines skipped: \" + str(k))\n",
    "    print(\"Theoretical amount of points to plot: \" + str(len(Hyades)))\n",
    "\n",
    "    # axis details\n",
    "    plt.ylabel(\"$M_G$\")\n",
    "    plt.xlabel(\"$G_{BP} - G_{RP}$\")\n",
    "    plt.legend(loc = \"lower left\", markerscale = 4)\n",
    "    plt.xlim(-0.75, 4.25)\n",
    "    plt.xticks([0, 1, 2, 3, 4])\n",
    "    plt.ylim(16, -4)\n",
    "    plt.yticks([0, 5, 10])\n",
    "        \n",
    "    plt.show()\n",
    "\n",
    "\n",
    "def distMod(parallax):\n",
    "    result = 5*(np.log10(1000/parallax)-1)\n",
    "    return result\n",
    "\n",
    "\n",
    "main()"
   ]
  },
  {
   "cell_type": "code",
   "execution_count": null,
   "metadata": {},
   "outputs": [],
   "source": []
  }
 ],
 "metadata": {
  "kernelspec": {
   "display_name": "Python 2",
   "language": "python",
   "name": "python2"
  },
  "language_info": {
   "codemirror_mode": {
    "name": "ipython",
    "version": 2
   },
   "file_extension": ".py",
   "mimetype": "text/x-python",
   "name": "python",
   "nbconvert_exporter": "python",
   "pygments_lexer": "ipython2",
   "version": "2.7.15"
  }
 },
 "nbformat": 4,
 "nbformat_minor": 2
}
